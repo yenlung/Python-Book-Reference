{
 "cells": [
  {
   "cell_type": "markdown",
   "metadata": {
    "colab_type": "text",
    "id": "oizS3YbQEclq"
   },
   "source": [
    "總之先 import 需要的函式庫"
   ]
  },
  {
   "cell_type": "code",
   "execution_count": 0,
   "metadata": {
    "colab": {},
    "colab_type": "code",
    "id": "Asvs_xvVEY18"
   },
   "outputs": [],
   "source": [
    "%matplotlib inline \n",
    "import numpy as np\n",
    "import matplotlib.pyplot as plt \n",
    "from sklearn.model_selection import train_test_split\n",
    "from sklearn.linear_model import LinearRegression"
   ]
  },
  {
   "cell_type": "markdown",
   "metadata": {
    "colab_type": "text",
    "id": "wBham_wUEg2S"
   },
   "source": [
    "接著把我們需要的資料集下載下來\n",
    "\n",
    "為了拿到全部資訊，先不要讓它只回傳 x 跟 y"
   ]
  },
  {
   "cell_type": "code",
   "execution_count": 0,
   "metadata": {
    "colab": {},
    "colab_type": "code",
    "id": "t7lS5LWHEh5q"
   },
   "outputs": [],
   "source": [
    "from sklearn.datasets import load_diabetes\n",
    "diabetes = load_diabetes(return_X_y=False)"
   ]
  },
  {
   "cell_type": "markdown",
   "metadata": {
    "colab_type": "text",
    "id": "hTlWI38_FEuk"
   },
   "source": [
    "看一下資料集的描述"
   ]
  },
  {
   "cell_type": "code",
   "execution_count": 0,
   "metadata": {
    "colab": {
     "base_uri": "https://localhost:8080/",
     "height": 663
    },
    "colab_type": "code",
    "executionInfo": {
     "elapsed": 848,
     "status": "ok",
     "timestamp": 1585481809718,
     "user": {
      "displayName": "陳先灝",
      "photoUrl": "",
      "userId": "07545385837801520180"
     },
     "user_tz": -480
    },
    "id": "VUtlxpWVEow1",
    "outputId": "1a0a2e99-bcc9-4c20-c0c2-701025240fe5"
   },
   "outputs": [
    {
     "name": "stdout",
     "output_type": "stream",
     "text": [
      ".. _diabetes_dataset:\n",
      "\n",
      "Diabetes dataset\n",
      "----------------\n",
      "\n",
      "Ten baseline variables, age, sex, body mass index, average blood\n",
      "pressure, and six blood serum measurements were obtained for each of n =\n",
      "442 diabetes patients, as well as the response of interest, a\n",
      "quantitative measure of disease progression one year after baseline.\n",
      "\n",
      "**Data Set Characteristics:**\n",
      "\n",
      "  :Number of Instances: 442\n",
      "\n",
      "  :Number of Attributes: First 10 columns are numeric predictive values\n",
      "\n",
      "  :Target: Column 11 is a quantitative measure of disease progression one year after baseline\n",
      "\n",
      "  :Attribute Information:\n",
      "      - Age\n",
      "      - Sex\n",
      "      - Body mass index\n",
      "      - Average blood pressure\n",
      "      - S1\n",
      "      - S2\n",
      "      - S3\n",
      "      - S4\n",
      "      - S5\n",
      "      - S6\n",
      "\n",
      "Note: Each of these 10 feature variables have been mean centered and scaled by the standard deviation times `n_samples` (i.e. the sum of squares of each column totals 1).\n",
      "\n",
      "Source URL:\n",
      "https://www4.stat.ncsu.edu/~boos/var.select/diabetes.html\n",
      "\n",
      "For more information see:\n",
      "Bradley Efron, Trevor Hastie, Iain Johnstone and Robert Tibshirani (2004) \"Least Angle Regression,\" Annals of Statistics (with discussion), 407-499.\n",
      "(https://web.stanford.edu/~hastie/Papers/LARS/LeastAngle_2002.pdf)\n"
     ]
    }
   ],
   "source": [
    "print(diabetes.DESCR)"
   ]
  },
  {
   "cell_type": "markdown",
   "metadata": {
    "colab_type": "text",
    "id": "f2vvtTtnFIiN"
   },
   "source": [
    "嗯，看起來有十個特徵跟 442 筆資料呢\n",
    "\n",
    "把資料的名字跟 shape 印出來確認一下"
   ]
  },
  {
   "cell_type": "code",
   "execution_count": 0,
   "metadata": {
    "colab": {
     "base_uri": "https://localhost:8080/",
     "height": 68
    },
    "colab_type": "code",
    "executionInfo": {
     "elapsed": 1090,
     "status": "ok",
     "timestamp": 1585481956521,
     "user": {
      "displayName": "陳先灝",
      "photoUrl": "",
      "userId": "07545385837801520180"
     },
     "user_tz": -480
    },
    "id": "oTJq6UakFHu8",
    "outputId": "d8e85337-59b6-40d5-906f-923112b6c23f"
   },
   "outputs": [
    {
     "name": "stdout",
     "output_type": "stream",
     "text": [
      "feature names: diabetes.feature_names\n",
      "data shape:  (442, 10)\n",
      "target shape:  (442,)\n"
     ]
    }
   ],
   "source": [
    "print(\"feature names: diabetes.feature_names\")\n",
    "print(\"data shape: \", diabetes.data.shape)\n",
    "print(\"target shape: \", diabetes.target.shape)"
   ]
  },
  {
   "cell_type": "markdown",
   "metadata": {
    "colab_type": "text",
    "id": "womxPR5JF3S8"
   },
   "source": [
    "跟之前一樣，把「給模型當作參考的特徵」當成 X， 「要模型去學的答案」叫做 Y"
   ]
  },
  {
   "cell_type": "code",
   "execution_count": 0,
   "metadata": {
    "colab": {},
    "colab_type": "code",
    "id": "6CCGfDgzFge0"
   },
   "outputs": [],
   "source": [
    "X = diabetes.data\n",
    "Y = diabetes.target"
   ]
  },
  {
   "cell_type": "markdown",
   "metadata": {
    "colab_type": "text",
    "id": "SD0JzdktGLU2"
   },
   "source": [
    "為了怕模型 overfit，我們需要把資料分成訓練資料跟測試資料\n",
    "\n",
    "還要養成沒事查看 shape 以防手滑的好習慣"
   ]
  },
  {
   "cell_type": "code",
   "execution_count": 0,
   "metadata": {
    "colab": {
     "base_uri": "https://localhost:8080/",
     "height": 34
    },
    "colab_type": "code",
    "executionInfo": {
     "elapsed": 1195,
     "status": "ok",
     "timestamp": 1585482217546,
     "user": {
      "displayName": "陳先灝",
      "photoUrl": "",
      "userId": "07545385837801520180"
     },
     "user_tz": -480
    },
    "id": "xWrdkLYJGH5S",
    "outputId": "53ae5412-4eab-4ced-f5c0-e43064ae0c13"
   },
   "outputs": [
    {
     "name": "stdout",
     "output_type": "stream",
     "text": [
      "x_train: (353, 10)  x_test: (89, 10)  y_train: (353,)  y_test: (89,)\n"
     ]
    }
   ],
   "source": [
    "x_train, x_test, y_train, y_test = train_test_split(X, Y, test_size=0.2, random_state=33)\n",
    "print(\"x_train:\", x_train.shape, \" x_test:\", x_test.shape, \" y_train:\", y_train.shape, \" y_test:\", y_test.shape, )"
   ]
  },
  {
   "cell_type": "markdown",
   "metadata": {
    "colab_type": "text",
    "id": "Ul76pMQCG_c_"
   },
   "source": [
    "因為已經很熟了，所以「叫出函數學習機」，「訓練函數學習機」，「把函數學習機拿來用」\n",
    "可以一氣呵成！\n"
   ]
  },
  {
   "cell_type": "code",
   "execution_count": 0,
   "metadata": {
    "colab": {},
    "colab_type": "code",
    "id": "AXnxdvdVGUFn"
   },
   "outputs": [],
   "source": [
    "regr = LinearRegression()\n",
    "regr.fit(x_train, y_train)\n",
    "y_predict = regr.predict(x_test)"
   ]
  },
  {
   "cell_type": "markdown",
   "metadata": {
    "colab_type": "text",
    "id": "jPoBXOHGHTd5"
   },
   "source": [
    "為了看看模型是不是學的好棒棒，把「真實的結果」當作 x 座標，\n",
    "「預測的結果」當作 y 座標描點在圖上\n",
    "\n",
    "為了方便比較，再畫一條對角線當作比較基準！\n",
    "\n",
    "(學得好的話，所有的點應該都會在對角線上，表示結果一樣)\n"
   ]
  },
  {
   "cell_type": "code",
   "execution_count": 0,
   "metadata": {
    "colab": {
     "base_uri": "https://localhost:8080/",
     "height": 279
    },
    "colab_type": "code",
    "executionInfo": {
     "elapsed": 1597,
     "status": "ok",
     "timestamp": 1585482739977,
     "user": {
      "displayName": "陳先灝",
      "photoUrl": "",
      "userId": "07545385837801520180"
     },
     "user_tz": -480
    },
    "id": "RrWH3utHG-HM",
    "outputId": "3bb74dbb-8c89-4521-d79e-120315438217"
   },
   "outputs": [
    {
     "data": {
      "image/png": "[encoded data removed]",
      "text/plain": [
       "<Figure size 432x288 with 1 Axes>"
      ]
     },
     "metadata": {
      "tags": []
     },
     "output_type": "display_data"
    }
   ],
   "source": [
    "plt.scatter(y_test, y_predict)\n",
    "plt.plot([0, 300], [0, 300], 'r')\n",
    "plt.xlabel('True Price')\n",
    "plt.ylabel('Predicted Price')\n",
    "\n",
    "plt.show()"
   ]
  },
  {
   "cell_type": "markdown",
   "metadata": {
    "colab_type": "text",
    "id": "GzDaQGYbI3aT"
   },
   "source": [
    "嗯嗯，看起來效果不是很好，理由可能是:\n",
    "\n",
    "1. 給的特徵不足以預測乳癌: \n",
    "\n",
    "  裏面的資料除了人的年齡和性別之外，還有血壓和血清的資料，\n",
    "\n",
    "  可能真的不太夠(比如要看看 x 光片之類的)\n",
    "\n",
    "2. 模型的參數或是模型不夠好:\n",
    "\n",
    "  其實線性迴歸也有很多可以調的參數，但我們這裏全部都用預設的，\n",
    "\n",
    "  之後可以多調整看看！\n",
    "\n",
    "  description 裏面的「更多資訊」有提到一篇論文，點進去看會發現是一種超級複雜的迴歸模型，\n",
    "\n",
    "  這個資料可能真的需要複雜一點的模型才會把函數學得好。"
   ]
  },
  {
   "cell_type": "code",
   "execution_count": 0,
   "metadata": {
    "colab": {},
    "colab_type": "code",
    "id": "Lj-sR_SzHvuL"
   },
   "outputs": [],
   "source": []
  }
 ],
 "metadata": {
  "colab": {
   "authorship_tag": "ABX9TyO04TMn+6dg8TjPec0F50Ik",
   "collapsed_sections": [],
   "name": "冒險 45. 拿真實世界的資料來試試看—波士頓房價預測.ipynb",
   "provenance": []
  },
  "kernelspec": {
   "display_name": "Python 3",
   "language": "python",
   "name": "python3"
  },
  "language_info": {
   "codemirror_mode": {
    "name": "ipython",
    "version": 3
   },
   "file_extension": ".py",
   "mimetype": "text/x-python",
   "name": "python",
   "nbconvert_exporter": "python",
   "pygments_lexer": "ipython3",
   "version": "3.7.3"
  }
 },
 "nbformat": 4,
 "nbformat_minor": 1
}
